{
 "cells": [
  {
   "cell_type": "code",
   "execution_count": 1,
   "metadata": {},
   "outputs": [
    {
     "name": "stderr",
     "output_type": "stream",
     "text": [
      "pydev debugger: warning: trying to add breakpoint to file that does not exist: /Users/roman/lianghua/git/abu/abupy_ui/localhost:8888/notebooks/lianghua/git/abu/abupy_ui/参数最优交叉验证.ipynb (will have no effect)\n",
      "pydev debugger: warning: trying to add breakpoint to file that does not exist: /Users/roman/lianghua/git/abu/abupy_ui/localhost:8888/notebooks/lianghua/git/abu/abupy_ui/widget_quant_tool.py (will have no effect)\n",
      "pydev debugger: warning: trying to add breakpoint to file that does not exist: /Users/roman/lianghua/git/abu/abupy_ui/localhost:8888/notebooks/lianghua/git/abu/abupy_ui/test.py (will have no effect)\n",
      "pydev debugger: warning: trying to add breakpoint to file that does not exist: /Users/roman/lianghua/git/abu/abupy_ui/localhost:8888/notebooks/lianghua/git/abu/abupy_ui/widget_verify_tool.py (will have no effect)\n",
      "pydev debugger: warning: trying to add breakpoint to file that does not exist: /Users/roman/lianghua/git/abu/abupy_ui/localhost:8888/notebooks/lianghua/git/abu/abupy_ui/widget_verify_tool.py (will have no effect)\n",
      "Expected: /Users/roman/lianghua/git/abu/pydevd-pycharm.egg/pydevd_attach_to_process/attach_x86_64.dylib to exist.\n"
     ]
    }
   ],
   "source": [
    "#import sys; sys.path.append('/Users/roman/lianghua/git/abu/pydevd-pycharm.egg')\n",
    "import pydevd_pycharm\n",
    "pydevd_pycharm.settrace('127.0.0.1', port=18889, stdoutToServer=True, stderrToServer=True)"
   ]
  },
  {
   "cell_type": "code",
   "execution_count": 1,
   "metadata": {},
   "outputs": [
    {
     "name": "stdout",
     "output_type": "stream",
     "text": [
      "正在初始化界面元素，请稍后...\n"
     ]
    },
    {
     "name": "stderr",
     "output_type": "stream",
     "text": [
      "NumExpr defaulting to 8 threads.\n"
     ]
    },
    {
     "ename": "AttributeError",
     "evalue": "'NoneType' object has no attribute 'co_name'",
     "output_type": "error",
     "traceback": [
      "\u001b[0;31m---------------------------------------------------------------------------\u001b[0m",
      "\u001b[0;31mAttributeError\u001b[0m                            Traceback (most recent call last)",
      "\u001b[0;32m<ipython-input-1-6129b65de9af>\u001b[0m in \u001b[0;36m<module>\u001b[0;34m\u001b[0m\n\u001b[1;32m      1\u001b[0m \u001b[0mget_ipython\u001b[0m\u001b[0;34m(\u001b[0m\u001b[0;34m)\u001b[0m\u001b[0;34m.\u001b[0m\u001b[0mrun_line_magic\u001b[0m\u001b[0;34m(\u001b[0m\u001b[0;34m'matplotlib'\u001b[0m\u001b[0;34m,\u001b[0m \u001b[0;34m'inline'\u001b[0m\u001b[0;34m)\u001b[0m\u001b[0;34m\u001b[0m\u001b[0;34m\u001b[0m\u001b[0m\n\u001b[1;32m      2\u001b[0m \u001b[0;32mimport\u001b[0m \u001b[0mwidget_verify_tool\u001b[0m\u001b[0;34m\u001b[0m\u001b[0;34m\u001b[0m\u001b[0m\n\u001b[0;32m----> 3\u001b[0;31m \u001b[0mwidget_verify_tool\u001b[0m\u001b[0;34m.\u001b[0m\u001b[0mshow_ui\u001b[0m\u001b[0;34m(\u001b[0m\u001b[0;34m)\u001b[0m\u001b[0;34m\u001b[0m\u001b[0;34m\u001b[0m\u001b[0m\n\u001b[0m",
      "\u001b[0;32m~/lianghua/git/abu/abupy_ui/widget_verify_tool.py\u001b[0m in \u001b[0;36mshow_ui\u001b[0;34m()\u001b[0m\n\u001b[1;32m     13\u001b[0m             \u001b[0;32mreturn\u001b[0m\u001b[0;34m\u001b[0m\u001b[0;34m\u001b[0m\u001b[0m\n\u001b[1;32m     14\u001b[0m         \u001b[0;32mfrom\u001b[0m \u001b[0mabupy\u001b[0m \u001b[0;32mimport\u001b[0m \u001b[0mWidgetVerifyTool\u001b[0m\u001b[0;34m\u001b[0m\u001b[0;34m\u001b[0m\u001b[0m\n\u001b[0;32m---> 15\u001b[0;31m         \u001b[0mwidget\u001b[0m \u001b[0;34m=\u001b[0m \u001b[0mWidgetVerifyTool\u001b[0m\u001b[0;34m(\u001b[0m\u001b[0;34m)\u001b[0m\u001b[0;34m\u001b[0m\u001b[0;34m\u001b[0m\u001b[0m\n\u001b[0m\u001b[1;32m     16\u001b[0m     \u001b[0;32mreturn\u001b[0m \u001b[0mwidget\u001b[0m\u001b[0;34m(\u001b[0m\u001b[0;34m)\u001b[0m\u001b[0;34m\u001b[0m\u001b[0;34m\u001b[0m\u001b[0m\n",
      "\u001b[0;32m~/lianghua/git/abu/abupy/WidgetBu/ABuWGVerifyTool.py\u001b[0m in \u001b[0;36m__init__\u001b[0;34m(self)\u001b[0m\n\u001b[1;32m     21\u001b[0m \u001b[0;34m\u001b[0m\u001b[0m\n\u001b[1;32m     22\u001b[0m     \u001b[0;32mdef\u001b[0m \u001b[0m__init__\u001b[0m\u001b[0;34m(\u001b[0m\u001b[0mself\u001b[0m\u001b[0;34m)\u001b[0m\u001b[0;34m:\u001b[0m\u001b[0;34m\u001b[0m\u001b[0;34m\u001b[0m\u001b[0m\n\u001b[0;32m---> 23\u001b[0;31m         \u001b[0mself\u001b[0m\u001b[0;34m.\u001b[0m\u001b[0mgrid_search\u001b[0m \u001b[0;34m=\u001b[0m \u001b[0mWidgetGridSearch\u001b[0m\u001b[0;34m(\u001b[0m\u001b[0;34m)\u001b[0m\u001b[0;34m\u001b[0m\u001b[0;34m\u001b[0m\u001b[0m\n\u001b[0m\u001b[1;32m     24\u001b[0m         \u001b[0mself\u001b[0m\u001b[0;34m.\u001b[0m\u001b[0mcross_val\u001b[0m \u001b[0;34m=\u001b[0m \u001b[0mWidgetCrossVal\u001b[0m\u001b[0;34m(\u001b[0m\u001b[0;34m)\u001b[0m\u001b[0;34m\u001b[0m\u001b[0;34m\u001b[0m\u001b[0m\n\u001b[1;32m     25\u001b[0m         \u001b[0msub_widget_tab\u001b[0m \u001b[0;34m=\u001b[0m \u001b[0mwidgets\u001b[0m\u001b[0;34m.\u001b[0m\u001b[0mTab\u001b[0m\u001b[0;34m(\u001b[0m\u001b[0;34m)\u001b[0m\u001b[0;34m\u001b[0m\u001b[0;34m\u001b[0m\u001b[0m\n",
      "\u001b[0;32m~/lianghua/git/abu/abupy/WidgetBu/ABuWGGridSearch.py\u001b[0m in \u001b[0;36m__init__\u001b[0;34m(self)\u001b[0m\n\u001b[1;32m     42\u001b[0m         \u001b[0mdate_mode_box\u001b[0m \u001b[0;34m=\u001b[0m \u001b[0mwidgets\u001b[0m\u001b[0;34m.\u001b[0m\u001b[0mVBox\u001b[0m\u001b[0;34m(\u001b[0m\u001b[0;34m[\u001b[0m\u001b[0mtip_label1\u001b[0m\u001b[0;34m,\u001b[0m \u001b[0mtip_label2\u001b[0m\u001b[0;34m,\u001b[0m \u001b[0mself\u001b[0m\u001b[0;34m.\u001b[0m\u001b[0mdate_mode\u001b[0m\u001b[0;34m]\u001b[0m\u001b[0;34m)\u001b[0m\u001b[0;34m\u001b[0m\u001b[0;34m\u001b[0m\u001b[0m\n\u001b[1;32m     43\u001b[0m \u001b[0;34m\u001b[0m\u001b[0m\n\u001b[0;32m---> 44\u001b[0;31m         \u001b[0mself\u001b[0m\u001b[0;34m.\u001b[0m\u001b[0msc\u001b[0m \u001b[0;34m=\u001b[0m \u001b[0mWidgetSymbolChoice\u001b[0m\u001b[0;34m(\u001b[0m\u001b[0;34m)\u001b[0m\u001b[0;34m\u001b[0m\u001b[0;34m\u001b[0m\u001b[0m\n\u001b[0m\u001b[1;32m     45\u001b[0m         \u001b[0mself\u001b[0m\u001b[0;34m.\u001b[0m\u001b[0mbf\u001b[0m \u001b[0;34m=\u001b[0m \u001b[0mBuyFactorWGManager\u001b[0m\u001b[0;34m(\u001b[0m\u001b[0madd_button_style\u001b[0m\u001b[0;34m=\u001b[0m\u001b[0;34m'grid'\u001b[0m\u001b[0;34m)\u001b[0m\u001b[0;34m\u001b[0m\u001b[0;34m\u001b[0m\u001b[0m\n\u001b[1;32m     46\u001b[0m         \u001b[0mself\u001b[0m\u001b[0;34m.\u001b[0m\u001b[0msf\u001b[0m \u001b[0;34m=\u001b[0m \u001b[0mSellFactorWGManager\u001b[0m\u001b[0;34m(\u001b[0m\u001b[0mshow_add_buy\u001b[0m\u001b[0;34m=\u001b[0m\u001b[0;32mFalse\u001b[0m\u001b[0;34m,\u001b[0m \u001b[0madd_button_style\u001b[0m\u001b[0;34m=\u001b[0m\u001b[0;34m'grid'\u001b[0m\u001b[0;34m)\u001b[0m\u001b[0;34m\u001b[0m\u001b[0;34m\u001b[0m\u001b[0m\n",
      "\u001b[0;32m~/lianghua/git/abu/abupy/WidgetBu/ABuWGBSymbol.py\u001b[0m in \u001b[0;36m__init__\u001b[0;34m(self)\u001b[0m\n\u001b[1;32m     40\u001b[0m         us_seed_symbol = [to_unicode('{}:{}'.format(AbuSymbolUS()[symbol].co_name.values[0], symbol))\n\u001b[1;32m     41\u001b[0m                           for symbol in ABuMarket.K_SAND_BOX_US]\n\u001b[0;32m---> 42\u001b[0;31m         cn_seed_symbol = [to_unicode('{}:{}'.format(AbuSymbolCN()[symbol].co_name.values[0], symbol))\n\u001b[0m\u001b[1;32m     43\u001b[0m                           for symbol in ABuMarket.K_SAND_BOX_CN]\n\u001b[1;32m     44\u001b[0m         hk_seed_symbol = [to_unicode('{}:{}'.format(AbuSymbolHK()[symbol].co_name.values[0], symbol))\n",
      "\u001b[0;32m~/lianghua/git/abu/abupy/WidgetBu/ABuWGBSymbol.py\u001b[0m in \u001b[0;36m<listcomp>\u001b[0;34m(.0)\u001b[0m\n\u001b[1;32m     40\u001b[0m         us_seed_symbol = [to_unicode('{}:{}'.format(AbuSymbolUS()[symbol].co_name.values[0], symbol))\n\u001b[1;32m     41\u001b[0m                           for symbol in ABuMarket.K_SAND_BOX_US]\n\u001b[0;32m---> 42\u001b[0;31m         cn_seed_symbol = [to_unicode('{}:{}'.format(AbuSymbolCN()[symbol].co_name.values[0], symbol))\n\u001b[0m\u001b[1;32m     43\u001b[0m                           for symbol in ABuMarket.K_SAND_BOX_CN]\n\u001b[1;32m     44\u001b[0m         hk_seed_symbol = [to_unicode('{}:{}'.format(AbuSymbolHK()[symbol].co_name.values[0], symbol))\n",
      "\u001b[0;31mAttributeError\u001b[0m: 'NoneType' object has no attribute 'co_name'"
     ]
    }
   ],
   "source": [
    "%matplotlib inline\n",
    "import widget_verify_tool\n",
    "widget_verify_tool.show_ui()"
   ]
  },
  {
   "cell_type": "code",
   "execution_count": null,
   "metadata": {
    "pycharm": {
     "name": "#%%\n"
    }
   },
   "outputs": [],
   "source": []
  },
  {
   "cell_type": "code",
   "execution_count": null,
   "metadata": {},
   "outputs": [],
   "source": []
  }
 ],
 "metadata": {
  "kernelspec": {
   "display_name": "Python 3",
   "language": "python",
   "name": "python3"
  },
  "language_info": {
   "codemirror_mode": {
    "name": "ipython",
    "version": 3
   },
   "file_extension": ".py",
   "mimetype": "text/x-python",
   "name": "python",
   "nbconvert_exporter": "python",
   "pygments_lexer": "ipython3",
   "version": "3.8.3"
  }
 },
 "nbformat": 4,
 "nbformat_minor": 2
}
