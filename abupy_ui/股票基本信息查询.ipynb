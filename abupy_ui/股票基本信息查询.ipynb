{
 "cells": [
  {
   "cell_type": "code",
   "execution_count": 1,
   "metadata": {},
   "outputs": [
    {
     "name": "stderr",
     "output_type": "stream",
     "text": [
      "pydev debugger: warning: trying to add breakpoint to file that does not exist: /Users/roman/lianghua/git/abu/abupy_ui/localhost:8888/notebooks/lianghua/git/abu/abupy_ui/参数最优交叉验证.ipynb (will have no effect)\n",
      "pydev debugger: warning: trying to add breakpoint to file that does not exist: /Users/roman/lianghua/git/abu/abupy_ui/localhost:8888/notebooks/lianghua/git/abu/abupy_ui/widget_quant_tool.py (will have no effect)\n",
      "pydev debugger: warning: trying to add breakpoint to file that does not exist: /Users/roman/lianghua/git/abu/abupy_ui/localhost:8888/notebooks/lianghua/git/abu/abupy_ui/test.py (will have no effect)\n",
      "pydev debugger: warning: trying to add breakpoint to file that does not exist: /Users/roman/lianghua/git/abu/abupy_ui/localhost:8888/notebooks/lianghua/git/abu/abupy_ui/widget_verify_tool.py (will have no effect)\n",
      "pydev debugger: warning: trying to add breakpoint to file that does not exist: /Users/roman/lianghua/git/abu/abupy_ui/localhost:8888/notebooks/lianghua/git/abu/abupy_ui/widget_verify_tool.py (will have no effect)\n",
      "Expected: /Users/roman/lianghua/git/abu/pydevd-pycharm.egg/pydevd_attach_to_process/attach_x86_64.dylib to exist.\n"
     ]
    }
   ],
   "source": [
    "import pydevd\n",
    "pydevd.settrace('127.0.0.1', port=18889, stdoutToServer=True, stderrToServer=True)"
   ]
  },
  {
   "cell_type": "code",
   "execution_count": 1,
   "metadata": {
    "scrolled": true
   },
   "outputs": [
    {
     "data": {
      "application/vnd.jupyter.widget-view+json": {
       "model_id": "9a724051a54d4fd7aba4f20057e8c97c",
       "version_major": 2,
       "version_minor": 0
      },
      "text/plain": [
       "VBox(children=(HBox(children=(Button(description='搜索:', layout=Layout(height='10%', width='7%'), style=ButtonS…"
      ]
     },
     "metadata": {},
     "output_type": "display_data"
    },
    {
     "data": {
      "application/vnd.jupyter.widget-view+json": {
       "model_id": "",
       "version_major": 2,
       "version_minor": 0
      },
      "text/plain": [
       "VBox(children=(Text(value='盐田港(SZ.SZ:000088)', description='公司名称:'), Textarea(value='-', description='公司简介:', …"
      ]
     },
     "metadata": {},
     "output_type": "display_data"
    },
    {
     "data": {
      "application/vnd.jupyter.widget-view+json": {
       "model_id": "4d03cf9a062c4fbcb278a65385eca735",
       "version_major": 2,
       "version_minor": 0
      },
      "text/plain": [
       "VBox(children=(Text(value='招商港口(SZ.SZ:001872)', description='公司名称:'), Textarea(value='-', description='公司简介:',…"
      ]
     },
     "metadata": {},
     "output_type": "display_data"
    }
   ],
   "source": [
    "import widget_stock_info\n",
    "widget_stock_info.show_ui()"
   ]
  },
  {
   "cell_type": "code",
   "execution_count": null,
   "metadata": {},
   "outputs": [],
   "source": []
  }
 ],
 "metadata": {
  "kernelspec": {
   "display_name": "Python 3",
   "language": "python",
   "name": "python3"
  },
  "language_info": {
   "codemirror_mode": {
    "name": "ipython",
    "version": 3
   },
   "file_extension": ".py",
   "mimetype": "text/x-python",
   "name": "python",
   "nbconvert_exporter": "python",
   "pygments_lexer": "ipython3",
   "version": "3.8.3"
  }
 },
 "nbformat": 4,
 "nbformat_minor": 2
}
